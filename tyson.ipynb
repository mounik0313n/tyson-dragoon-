{
  "nbformat": 4,
  "nbformat_minor": 0,
  "metadata": {
    "colab": {
      "provenance": []
    },
    "kernelspec": {
      "name": "python3",
      "display_name": "Python 3"
    },
    "language_info": {
      "name": "python"
    }
  },
  "cells": [
    {
      "cell_type": "code",
      "execution_count": null,
      "metadata": {
        "colab": {
          "base_uri": "https://localhost:8080/"
        },
        "id": "SMWps5CcOcQs",
        "outputId": "3856c2e9-7847-4b40-f22a-a9c2c25c9e03"
      },
      "outputs": [
        {
          "output_type": "stream",
          "name": "stdout",
          "text": [
            "uhciar\n",
            "xuno\n",
            "ykcor\n",
            "wem\n",
            "regneg\n",
            "sarap\n",
            "repives\n",
            "nobuorg\n",
            "rednamrahc\n",
            "eltriqs\n",
            "oocooc\n",
            "rusablub\n"
          ]
        }
      ],
      "source": [
        "pokelist=[\"bulbasur_54\",\"coocoo_71\",\"sqirtle_42\",\"charmander_09\",\"groubon_69\",\"seviper_68\",\"paras_00\",\"genger_69\",\"mew_11\",\"rocky_12\",\"onux_97\",\"raichu_22\"]\n",
        "for barre in pokelist[::-1]:\n",
        "  print(barre[-4::-1])"
      ]
    },
    {
      "cell_type": "code",
      "source": [
        "v1=\"balbasar\"\n",
        "v2=\"mewtow\"\n",
        "for v in v1 or v2:\n",
        "  print(v)"
      ],
      "metadata": {
        "colab": {
          "base_uri": "https://localhost:8080/"
        },
        "id": "xIkADs8yP9-F",
        "outputId": "60181f81-1772-43fd-bce6-cdd85b9539a0"
      },
      "execution_count": null,
      "outputs": [
        {
          "output_type": "stream",
          "name": "stdout",
          "text": [
            "b\n",
            "a\n",
            "l\n",
            "b\n",
            "a\n",
            "s\n",
            "a\n",
            "r\n"
          ]
        }
      ]
    },
    {
      "cell_type": "code",
      "source": [
        "pokelist=[\"bulbasur_54\",\"coocoo_71\",\"sqirtle_42\",\"charmander_09\",\"groubon_69\",\"seviper_68\",\"paras_00\",\"genger_69\",\"mew_11\",\"rocky_12\",\"onux_97\",\"raichu_22\"]\n",
        "for barre in pokelist:\n",
        "  index=barre.index('_')\n",
        "  name=barre[:index]\n",
        "  if(name.endswith(\"\")):\n",
        "    print(name)\n",
        "  else:\n",
        "    continue\n"
      ],
      "metadata": {
        "id": "5KZZ7pwAQig7",
        "colab": {
          "base_uri": "https://localhost:8080/"
        },
        "outputId": "d7c73d75-58b0-424b-c740-2946386f263b"
      },
      "execution_count": 86,
      "outputs": [
        {
          "output_type": "stream",
          "name": "stdout",
          "text": [
            "bulbasur\n",
            "charmander\n",
            "seviper\n",
            "genger\n"
          ]
        }
      ]
    },
    {
      "cell_type": "code",
      "source": [
        "var=[\"Bulbasaur_21\",\"coocoo_54\",\"Squirtle_42\",\"charmandar_09\",\"groudon_69\",\"sevipar_68\"]\n",
        "lst=[]\n",
        "for x in var[::2]:\n",
        "  lst.append(var)\n",
        "  print(x)"
      ],
      "metadata": {
        "colab": {
          "base_uri": "https://localhost:8080/"
        },
        "id": "4IA7JbawWRp6",
        "outputId": "42d8c415-57eb-4c4b-9f4c-a4664f5ffd25"
      },
      "execution_count": 103,
      "outputs": [
        {
          "output_type": "stream",
          "name": "stdout",
          "text": [
            "Bulbasaur_21\n",
            "Squirtle_42\n",
            "groudon_69\n"
          ]
        }
      ]
    },
    {
      "cell_type": "code",
      "source": [],
      "metadata": {
        "id": "0LViPX_qciZS"
      },
      "execution_count": null,
      "outputs": []
    }
  ]
}